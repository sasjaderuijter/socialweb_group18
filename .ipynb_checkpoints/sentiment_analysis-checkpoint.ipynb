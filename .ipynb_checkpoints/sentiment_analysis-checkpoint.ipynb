{
 "cells": [
  {
   "cell_type": "markdown",
   "id": "65ba5a0f",
   "metadata": {},
   "source": [
    "Install necesary libraries"
   ]
  },
  {
   "cell_type": "code",
   "execution_count": 83,
   "id": "516f9f76",
   "metadata": {},
   "outputs": [
    {
     "name": "stdout",
     "output_type": "stream",
     "text": [
      "Requirement already satisfied: textblob in c:\\users\\sasja\\anaconda3\\lib\\site-packages (0.17.1)\n",
      "Requirement already satisfied: nltk>=3.1 in c:\\users\\sasja\\anaconda3\\lib\\site-packages (from textblob) (3.6.1)\n",
      "Requirement already satisfied: click in c:\\users\\sasja\\anaconda3\\lib\\site-packages (from nltk>=3.1->textblob) (7.1.2)\n",
      "Requirement already satisfied: joblib in c:\\users\\sasja\\anaconda3\\lib\\site-packages (from nltk>=3.1->textblob) (1.0.1)\n",
      "Requirement already satisfied: tqdm in c:\\users\\sasja\\anaconda3\\lib\\site-packages (from nltk>=3.1->textblob) (4.59.0)\n",
      "Requirement already satisfied: regex in c:\\users\\sasja\\anaconda3\\lib\\site-packages (from nltk>=3.1->textblob) (2021.4.4)\n",
      "Requirement already satisfied: textblob-nl in c:\\users\\sasja\\anaconda3\\lib\\site-packages (0.0.1)\n",
      "Requirement already satisfied: textblob>=0.8.0 in c:\\users\\sasja\\anaconda3\\lib\\site-packages (from textblob-nl) (0.17.1)\n",
      "Requirement already satisfied: nltk>=3.1 in c:\\users\\sasja\\anaconda3\\lib\\site-packages (from textblob>=0.8.0->textblob-nl) (3.6.1)\n",
      "Requirement already satisfied: click in c:\\users\\sasja\\anaconda3\\lib\\site-packages (from nltk>=3.1->textblob>=0.8.0->textblob-nl) (7.1.2)\n",
      "Requirement already satisfied: joblib in c:\\users\\sasja\\anaconda3\\lib\\site-packages (from nltk>=3.1->textblob>=0.8.0->textblob-nl) (1.0.1)\n",
      "Requirement already satisfied: tqdm in c:\\users\\sasja\\anaconda3\\lib\\site-packages (from nltk>=3.1->textblob>=0.8.0->textblob-nl) (4.59.0)\n",
      "Requirement already satisfied: regex in c:\\users\\sasja\\anaconda3\\lib\\site-packages (from nltk>=3.1->textblob>=0.8.0->textblob-nl) (2021.4.4)\n",
      "Finished.\n"
     ]
    },
    {
     "name": "stderr",
     "output_type": "stream",
     "text": [
      "[nltk_data] Downloading package brown to\n",
      "[nltk_data]     C:\\Users\\sasja\\AppData\\Roaming\\nltk_data...\n",
      "[nltk_data]   Package brown is already up-to-date!\n",
      "[nltk_data] Downloading package punkt to\n",
      "[nltk_data]     C:\\Users\\sasja\\AppData\\Roaming\\nltk_data...\n",
      "[nltk_data]   Package punkt is already up-to-date!\n",
      "[nltk_data] Downloading package wordnet to\n",
      "[nltk_data]     C:\\Users\\sasja\\AppData\\Roaming\\nltk_data...\n",
      "[nltk_data]   Package wordnet is already up-to-date!\n",
      "[nltk_data] Downloading package averaged_perceptron_tagger to\n",
      "[nltk_data]     C:\\Users\\sasja\\AppData\\Roaming\\nltk_data...\n",
      "[nltk_data]   Package averaged_perceptron_tagger is already up-to-\n",
      "[nltk_data]       date!\n",
      "[nltk_data] Downloading package conll2000 to\n",
      "[nltk_data]     C:\\Users\\sasja\\AppData\\Roaming\\nltk_data...\n",
      "[nltk_data]   Package conll2000 is already up-to-date!\n",
      "[nltk_data] Downloading package movie_reviews to\n",
      "[nltk_data]     C:\\Users\\sasja\\AppData\\Roaming\\nltk_data...\n",
      "[nltk_data]   Package movie_reviews is already up-to-date!\n"
     ]
    }
   ],
   "source": [
    "!pip install -U textblob\n",
    "!pip install textblob-nl\n",
    "!python -m textblob.download_corpora"
   ]
  },
  {
   "cell_type": "markdown",
   "id": "36d10aa8",
   "metadata": {},
   "source": [
    "## Filtering the twitter dataset on user"
   ]
  },
  {
   "cell_type": "code",
   "execution_count": 84,
   "id": "cf5e62d4",
   "metadata": {},
   "outputs": [
    {
     "name": "stdout",
     "output_type": "stream",
     "text": [
      "Index(['username', 'Label', 'timeset', 'componentnumber', 'strongcompnum',\n",
      "       'indegree', 'outdegree', 'Degree', 'weighted indegree',\n",
      "       'weighted outdegree', 'Weighted Degree', 'Eccentricity',\n",
      "       'closnesscentrality', 'harmonicclosnesscentrality',\n",
      "       'betweenesscentrality', 'Authority', 'Hub', 'pageranks', 'clustering',\n",
      "       'eigencentrality', 'modularity_class'],\n",
      "      dtype='object')\n",
      "Index(['index', 'tweet_id', 'username', 'text', 'tweet_source',\n",
      "       'tweet_source_link', 'rt_count', 'fav_count', 'clean_text'],\n",
      "      dtype='object')\n"
     ]
    }
   ],
   "source": [
    "import pandas as pd\n",
    "\n",
    "network_data = pd.read_csv ('data/network_stats/complete.csv')\n",
    "tweets = pd.read_csv ('data/cleaned_w_rt/cleaned_rt.csv')\n",
    "\n",
    "network_data = network_data.rename(columns={\"Id\": \"username\"})\n",
    "\n",
    "print(network_data.columns)\n",
    "print(tweets.columns)"
   ]
  },
  {
   "cell_type": "code",
   "execution_count": 85,
   "id": "d289d052",
   "metadata": {},
   "outputs": [],
   "source": [
    "data = tweets[tweets[\"username\"].isin(network_data['username'])]"
   ]
  },
  {
   "cell_type": "code",
   "execution_count": 86,
   "id": "f6a065e1",
   "metadata": {},
   "outputs": [
    {
     "data": {
      "text/plain": [
       "array([2, 4, 3, 1, 0], dtype=int64)"
      ]
     },
     "execution_count": 86,
     "metadata": {},
     "output_type": "execute_result"
    }
   ],
   "source": [
    "data = data.merge(network_data.loc[:,['username','modularity_class']], on=\"username\", how='inner')\n",
    "\n",
    "data[\"modularity_class\"].unique()"
   ]
  },
  {
   "cell_type": "code",
   "execution_count": 89,
   "id": "f906112d",
   "metadata": {},
   "outputs": [
    {
     "data": {
      "application/vnd.jupyter.widget-view+json": {
       "model_id": "93858d67d92a4c448975749f1794d8b8",
       "version_major": 2,
       "version_minor": 0
      },
      "text/plain": [
       "  0%|          | 0/8248 [00:00<?, ?it/s]"
      ]
     },
     "metadata": {},
     "output_type": "display_data"
    }
   ],
   "source": [
    "from tqdm.notebook import tqdm\n",
    "from textblob import TextBlob\n",
    "from textblob_nl import PatternTagger, PatternAnalyzer\n",
    "tqdm.pandas()\n",
    "\n",
    "sentiment = data.clean_text.progress_apply(lambda x: tuple(TextBlob(text=x, analyzer=PatternAnalyzer()).sentiment))\n",
    "\n",
    "data[\"polarity\"] = sentiment.str.get(0)\n",
    "data[\"subjectivity\"] = sentiment.str.get(1)"
   ]
  },
  {
   "cell_type": "markdown",
   "id": "4281ef7f",
   "metadata": {},
   "source": [
    "## Semtiment analysis on complete dataset"
   ]
  },
  {
   "cell_type": "code",
   "execution_count": 143,
   "id": "8b81361f",
   "metadata": {},
   "outputs": [
    {
     "data": {
      "image/png": "[encoded data removed]",
      "text/plain": [
       "<Figure size 432x288 with 1 Axes>"
      ]
     },
     "metadata": {
      "needs_background": "light"
     },
     "output_type": "display_data"
    }
   ],
   "source": [
    "import matplotlib.pyplot as plt\n",
    "import matplotlib.ticker as mtick\n",
    "import seaborn as sns\n",
    "\n",
    "fig, ax = plt.subplots(figsize=(6, 4))\n",
    "\n",
    "data[\"polarity\"].plot(kind=\"hist\", bins=21, edgecolor=\"white\",  title=\"Polarity\")\n",
    "\n",
    "ax.set_xlim(-1, 1)\n",
    "\n",
    "sns.despine()\n",
    "plt.savefig(\"figures/histogram_polarity_subjectivity.png\")\n"
   ]
  },
  {
   "cell_type": "code",
   "execution_count": 144,
   "id": "fba6e218",
   "metadata": {},
   "outputs": [
    {
     "data": {
      "image/png": "[encoded data removed]",
      "text/plain": [
       "<Figure size 432x288 with 1 Axes>"
      ]
     },
     "metadata": {
      "needs_background": "light"
     },
     "output_type": "display_data"
    }
   ],
   "source": [
    "fig, ax = plt.subplots(figsize=(6, 4))\n",
    "\n",
    "data[\"subjectivity\"].plot(kind=\"hist\", bins=20, edgecolor=\"white\", title=\"Subjectivity\")\n",
    "\n",
    "ax.set_xlim(0, 1)\n",
    "sns.despine()\n",
    "\n",
    "plt.savefig(\"figures/histogram_subjectivity.png\")"
   ]
  },
  {
   "cell_type": "code",
   "execution_count": 139,
   "id": "9b33a241",
   "metadata": {},
   "outputs": [],
   "source": [
    "data[\"polarity_text\"] = 0\n",
    "\n",
    "data.loc[data.polarity > 0, 'polarity_text'] = 'Positive'\n",
    "data.loc[data.polarity < 0, 'polarity_text'] = 'Negative'\n",
    "data.loc[data.polarity == 0, 'polarity_text'] = 'Neutral'"
   ]
  },
  {
   "cell_type": "code",
   "execution_count": 140,
   "id": "a822a2c7",
   "metadata": {},
   "outputs": [
    {
     "data": {
      "image/png": "[encoded data removed]",
      "text/plain": [
       "<Figure size 288x288 with 1 Axes>"
      ]
     },
     "metadata": {
      "needs_background": "light"
     },
     "output_type": "display_data"
    }
   ],
   "source": [
    "fc = sns.catplot(x=\"polarity_text\",\n",
    "                    data=data, kind=\"count\", \n",
    "                    palette={\"Negative\": \"#F36B6B\", \n",
    "                             \"Positive\": \"#1FB57B\", \n",
    "                             \"Neutral\": \"#A8E7E9\"},\n",
    "                    height=4, aspect=1)\n",
    "fc.fig.suptitle('Sentiment of tweets', fontsize=14)\n",
    "plt.savefig(\"figures/catplot_sentiment.png\")"
   ]
  },
  {
   "cell_type": "code",
   "execution_count": 141,
   "id": "3db86a91",
   "metadata": {},
   "outputs": [
    {
     "name": "stdout",
     "output_type": "stream",
     "text": [
      "Most positive tweet:\n",
      "@remco_oerend Prachtig!!! #ZwartePiet\n",
      "Most negative tweet:\n",
      "RT @UbedaMichel: Die zwakzinnige van #kozp verzieken een #KINDERFEEST. #Zwartepiet vinden ze niet goed, nu hebben we die belachelijke #Roet…\n",
      "Neutral tweet example:\n",
      "RT @lezerniels: @DevliegerErik #KOZP: Demonstreren in #Volendam wordt 'een eitje', en idd 😄\n"
     ]
    }
   ],
   "source": [
    "pos = data[data.polarity == 1].index[4]\n",
    "print(\"Most positive tweet:\")\n",
    "print(data.iloc[pos][\"text\"])\n",
    "\n",
    "neg = data[data.polarity == -1].index[3]\n",
    "print(\"Most negative tweet:\")\n",
    "print(data.iloc[neg][\"text\"])\n",
    "\n",
    "neu = data[data.polarity == 0].index[3]\n",
    "print(\"Neutral tweet example:\")\n",
    "print(data.iloc[neu][\"text\"])"
   ]
  },
  {
   "cell_type": "markdown",
   "id": "36722896",
   "metadata": {},
   "source": [
    "## Modalarity groups"
   ]
  },
  {
   "cell_type": "code",
   "execution_count": 142,
   "id": "5a2be507",
   "metadata": {},
   "outputs": [
    {
     "data": {
      "image/png": "[encoded data removed]",
      "text/plain": [
       "<Figure size 656.875x576 with 1 Axes>"
      ]
     },
     "metadata": {
      "needs_background": "light"
     },
     "output_type": "display_data"
    }
   ],
   "source": [
    "fc = sns.catplot(x=\"modularity_class\",\n",
    "                    data=data, hue=\"polarity_text\", kind=\"count\", \n",
    "                     palette={\"Negative\": \"#F36B6B\", \n",
    "                                 \"Neutral\": \"#A8E7E9\",\n",
    "                                 \"Positive\": \"#1FB57B\"},\n",
    "                    height=8)\n",
    "fc.fig.suptitle('Sentiment of tweets', fontsize=15)\n",
    "plt.savefig(\"figures/catplot_sentiment_per_group.png\")"
   ]
  },
  {
   "cell_type": "code",
   "execution_count": null,
   "id": "8ecf01e6",
   "metadata": {},
   "outputs": [],
   "source": []
  }
 ],
 "metadata": {
  "kernelspec": {
   "display_name": "Python 3",
   "language": "python",
   "name": "python3"
  },
  "language_info": {
   "codemirror_mode": {
    "name": "ipython",
    "version": 3
   },
   "file_extension": ".py",
   "mimetype": "text/x-python",
   "name": "python",
   "nbconvert_exporter": "python",
   "pygments_lexer": "ipython3",
   "version": "3.8.8"
  }
 },
 "nbformat": 4,
 "nbformat_minor": 5
}
