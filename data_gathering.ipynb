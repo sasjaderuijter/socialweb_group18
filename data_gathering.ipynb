{
 "cells": [
  {
   "cell_type": "markdown",
   "source": [
    "# Notebook for data collection"
   ],
   "metadata": {
    "collapsed": false,
    "pycharm": {
     "name": "#%% md\n"
    }
   }
  },
  {
   "cell_type": "code",
   "execution_count": 1,
   "outputs": [],
   "source": [
    "import tweepy\n",
    "import pandas as pd"
   ],
   "metadata": {
    "collapsed": false,
    "pycharm": {
     "name": "#%%\n"
    }
   }
  },
  {
   "cell_type": "code",
   "execution_count": 2,
   "id": "d739ab46",
   "metadata": {},
   "outputs": [
    {
     "name": "stdout",
     "output_type": "stream",
     "text": [
      "<twitter.api.Twitter object at 0x7fc1e8587cd0>\n"
     ]
    }
   ],
   "source": [
    "CONSUMER_KEY = ''\n",
    "CONSUMER_SECRET = ''\n",
    "OAUTH_TOKEN = ''\n",
    "OAUTH_TOKEN_SECRET = ''"
   ]
  },
  {
   "cell_type": "code",
   "execution_count": 9,
   "id": "851071f6",
   "metadata": {
    "pycharm": {
     "name": "#%%\n"
    }
   },
   "outputs": [
    {
     "name": "stderr",
     "output_type": "stream",
     "text": [
      "Rate limit reached. Sleeping for: 79\n"
     ]
    }
   ],
   "source": [
    "MAX_TWEETS = 1000\n",
    "\n",
    "auth = tweepy.OAuthHandler(CONSUMER_KEY, CONSUMER_SECRET)\n",
    "api = tweepy.API(auth, wait_on_rate_limit=True)\n",
    "\n",
    "msgs = []\n",
    "\n",
    "for tweet in tweepy.Cursor(api.search_tweets, q='zwartepiet OR kozp OR kickoutzwartepiet OR kozwartepiet OR AntiZwartePiet', tweet_mode=\"extended\").items(MAX_TWEETS):\n",
    "    msg = [tweet.id_str, tweet.user.screen_name, tweet.full_text, tweet.source, tweet.source_url, tweet.retweet_count, tweet.favorite_count] \n",
    "    msg = tuple(msg)                    \n",
    "    msgs.append(msg)\n",
    "    pass\n",
    "\n",
    "columns = ['tweet_id', 'source', 'text', 'application', 'application_link', 'rt_count', 'fav_count']\n",
    "dat = pd.DataFrame(msgs, columns = columns)\n",
    "dat.to_csv('tweets.csv')"
   ]
  }
 ],
 "metadata": {
  "kernelspec": {
   "display_name": "Python 3 (ipykernel)",
   "language": "python",
   "name": "python3"
  },
  "language_info": {
   "codemirror_mode": {
    "name": "ipython",
    "version": 3
   },
   "file_extension": ".py",
   "mimetype": "text/x-python",
   "name": "python",
   "nbconvert_exporter": "python",
   "pygments_lexer": "ipython3",
   "version": "3.9.7"
  }
 },
 "nbformat": 4,
 "nbformat_minor": 5
}