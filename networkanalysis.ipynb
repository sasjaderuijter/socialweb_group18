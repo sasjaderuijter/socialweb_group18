{
 "cells": [
  {
   "cell_type": "markdown",
   "source": [
    "# Script for some network analysis"
   ],
   "metadata": {
    "collapsed": false,
    "pycharm": {
     "name": "#%% md\n"
    }
   }
  },
  {
   "cell_type": "code",
   "execution_count": 5,
   "outputs": [
    {
     "name": "stdout",
     "output_type": "stream",
     "text": [
      "Number of users in the network:  3054\n",
      "Number of users in the tweets:  5432\n"
     ]
    }
   ],
   "source": [
    "import pandas as pd\n",
    "import ast\n",
    "\n",
    "network_data = pd.read_csv('data/network_stats/complete.csv')\n",
    "network_data_rt = pd.read_csv('data/network_stats/rt_only.csv')\n",
    "tweets = pd.read_csv('data/cleaned_w_rt/cleaned_rt.csv')\n",
    "\n",
    "tweets['clean_text'] = tweets['clean_text'].apply(ast.literal_eval)\n",
    "\n",
    "network_data = network_data.rename(columns = {'Id':'username'})\n",
    "\n",
    "print('Number of users in the network: ', network_data.username.nunique())\n",
    "print('Number of users in the tweets: ', tweets.username.nunique())"
   ],
   "metadata": {
    "collapsed": false,
    "pycharm": {
     "name": "#%%\n"
    }
   }
  },
  {
   "cell_type": "code",
   "execution_count": 6,
   "id": "2a50f203",
   "metadata": {},
   "outputs": [
    {
     "data": {
      "text/plain": "2    48.297315\n1    25.867714\n3    11.755075\n0     8.677145\n4     5.402750\nName: modularity_class, dtype: float64"
     },
     "execution_count": 6,
     "metadata": {},
     "output_type": "execute_result"
    }
   ],
   "source": [
    "# Find the sizes of each cluster in the network\n",
    "network_data['modularity_class'].value_counts(normalize=True) * 100"
   ]
  },
  {
   "cell_type": "code",
   "execution_count": 36,
   "id": "5d0c8fa5",
   "metadata": {},
   "outputs": [
    {
     "data": {
      "text/plain": "             username            Label  timeset  componentnumber  \\\n18      erikpjverweij    erikpjverweij      NaN                0   \n171               NOS              NOS      NaN                0   \n13      ShashiRoopram    ShashiRoopram      NaN                0   \n8         SylvanaBIJ1      SylvanaBIJ1      NaN                0   \n22        jesseklaver      jesseklaver      NaN                0   \n621        WitdeBerna       WitdeBerna      NaN                0   \n43            HartvNL          HartvNL      NaN                0   \n46    TheRebelThePoet  TheRebelThePoet      NaN                0   \n1145       volkskrant       volkskrant      NaN                0   \n32       kozwartepiet     kozwartepiet      NaN                0   \n\n      strongcompnum  indegree  outdegree  Degree  weighted indegree  \\\n18              634       109          3     112                154   \n171              17       134          0     134                174   \n13              634        90          1      91                106   \n8               109       152          0     152                185   \n22               13       147          0     147                205   \n621             634         4          6      10                  6   \n43               27       190          0     190                237   \n46               25       213          1     214                316   \n1145             24        45          0      45                 65   \n32              634       273         18     291                471   \n\n      weighted outdegree  ...  Eccentricity  closnesscentrality  \\\n18                     3  ...            15            0.124773   \n171                    0  ...             0            0.000000   \n13                     2  ...            14            0.140561   \n8                      0  ...             0            0.000000   \n22                     0  ...             0            0.000000   \n621                    8  ...            13            0.163446   \n43                     0  ...             0            0.000000   \n46                     1  ...             1            1.000000   \n1145                   0  ...             0            0.000000   \n32                    22  ...            19            0.089950   \n\n      harmonicclosnesscentrality  betweenesscentrality  Authority       Hub  \\\n18                      0.137056         136860.272338   0.096377  0.004986   \n171                     0.000000              0.000000   0.128279  0.000000   \n13                      0.155039         689806.071053   0.088789  0.000002   \n8                       0.000000              0.000000   0.195546  0.000000   \n22                      0.000000              0.000000   0.168528  0.000000   \n621                     0.188076         701754.834849   0.000035  0.000958   \n43                      0.000000              0.000000   0.216360  0.000000   \n46                      1.000000           1148.623016   0.498295  0.002671   \n1145                    0.000000              0.000000   0.053298  0.000000   \n32                      0.117547         379874.383167   0.611762  0.064434   \n\n      pageranks  clustering  eigencentrality  modularity_class  \n18     0.007534    0.006306         0.302282                 0  \n171    0.008438    0.004152         0.481444                 2  \n13     0.009376    0.007814         0.347346                 0  \n8      0.009433    0.001394         0.447703                 1  \n22     0.009438    0.003867         0.649081                 2  \n621    0.009465    0.013889         0.074021                 2  \n43     0.012330    0.002005         0.534336                 2  \n46     0.014400    0.004366         0.813891                 1  \n1145   0.014708    0.028283         0.285381                 4  \n32     0.024833    0.005387         1.000000                 1  \n\n[10 rows x 21 columns]",
      "text/html": "<div>\n<style scoped>\n    .dataframe tbody tr th:only-of-type {\n        vertical-align: middle;\n    }\n\n    .dataframe tbody tr th {\n        vertical-align: top;\n    }\n\n    .dataframe thead th {\n        text-align: right;\n    }\n</style>\n<table border=\"1\" class=\"dataframe\">\n  <thead>\n    <tr style=\"text-align: right;\">\n      <th></th>\n      <th>username</th>\n      <th>Label</th>\n      <th>timeset</th>\n      <th>componentnumber</th>\n      <th>strongcompnum</th>\n      <th>indegree</th>\n      <th>outdegree</th>\n      <th>Degree</th>\n      <th>weighted indegree</th>\n      <th>weighted outdegree</th>\n      <th>...</th>\n      <th>Eccentricity</th>\n      <th>closnesscentrality</th>\n      <th>harmonicclosnesscentrality</th>\n      <th>betweenesscentrality</th>\n      <th>Authority</th>\n      <th>Hub</th>\n      <th>pageranks</th>\n      <th>clustering</th>\n      <th>eigencentrality</th>\n      <th>modularity_class</th>\n    </tr>\n  </thead>\n  <tbody>\n    <tr>\n      <th>18</th>\n      <td>erikpjverweij</td>\n      <td>erikpjverweij</td>\n      <td>NaN</td>\n      <td>0</td>\n      <td>634</td>\n      <td>109</td>\n      <td>3</td>\n      <td>112</td>\n      <td>154</td>\n      <td>3</td>\n      <td>...</td>\n      <td>15</td>\n      <td>0.124773</td>\n      <td>0.137056</td>\n      <td>136860.272338</td>\n      <td>0.096377</td>\n      <td>0.004986</td>\n      <td>0.007534</td>\n      <td>0.006306</td>\n      <td>0.302282</td>\n      <td>0</td>\n    </tr>\n    <tr>\n      <th>171</th>\n      <td>NOS</td>\n      <td>NOS</td>\n      <td>NaN</td>\n      <td>0</td>\n      <td>17</td>\n      <td>134</td>\n      <td>0</td>\n      <td>134</td>\n      <td>174</td>\n      <td>0</td>\n      <td>...</td>\n      <td>0</td>\n      <td>0.000000</td>\n      <td>0.000000</td>\n      <td>0.000000</td>\n      <td>0.128279</td>\n      <td>0.000000</td>\n      <td>0.008438</td>\n      <td>0.004152</td>\n      <td>0.481444</td>\n      <td>2</td>\n    </tr>\n    <tr>\n      <th>13</th>\n      <td>ShashiRoopram</td>\n      <td>ShashiRoopram</td>\n      <td>NaN</td>\n      <td>0</td>\n      <td>634</td>\n      <td>90</td>\n      <td>1</td>\n      <td>91</td>\n      <td>106</td>\n      <td>2</td>\n      <td>...</td>\n      <td>14</td>\n      <td>0.140561</td>\n      <td>0.155039</td>\n      <td>689806.071053</td>\n      <td>0.088789</td>\n      <td>0.000002</td>\n      <td>0.009376</td>\n      <td>0.007814</td>\n      <td>0.347346</td>\n      <td>0</td>\n    </tr>\n    <tr>\n      <th>8</th>\n      <td>SylvanaBIJ1</td>\n      <td>SylvanaBIJ1</td>\n      <td>NaN</td>\n      <td>0</td>\n      <td>109</td>\n      <td>152</td>\n      <td>0</td>\n      <td>152</td>\n      <td>185</td>\n      <td>0</td>\n      <td>...</td>\n      <td>0</td>\n      <td>0.000000</td>\n      <td>0.000000</td>\n      <td>0.000000</td>\n      <td>0.195546</td>\n      <td>0.000000</td>\n      <td>0.009433</td>\n      <td>0.001394</td>\n      <td>0.447703</td>\n      <td>1</td>\n    </tr>\n    <tr>\n      <th>22</th>\n      <td>jesseklaver</td>\n      <td>jesseklaver</td>\n      <td>NaN</td>\n      <td>0</td>\n      <td>13</td>\n      <td>147</td>\n      <td>0</td>\n      <td>147</td>\n      <td>205</td>\n      <td>0</td>\n      <td>...</td>\n      <td>0</td>\n      <td>0.000000</td>\n      <td>0.000000</td>\n      <td>0.000000</td>\n      <td>0.168528</td>\n      <td>0.000000</td>\n      <td>0.009438</td>\n      <td>0.003867</td>\n      <td>0.649081</td>\n      <td>2</td>\n    </tr>\n    <tr>\n      <th>621</th>\n      <td>WitdeBerna</td>\n      <td>WitdeBerna</td>\n      <td>NaN</td>\n      <td>0</td>\n      <td>634</td>\n      <td>4</td>\n      <td>6</td>\n      <td>10</td>\n      <td>6</td>\n      <td>8</td>\n      <td>...</td>\n      <td>13</td>\n      <td>0.163446</td>\n      <td>0.188076</td>\n      <td>701754.834849</td>\n      <td>0.000035</td>\n      <td>0.000958</td>\n      <td>0.009465</td>\n      <td>0.013889</td>\n      <td>0.074021</td>\n      <td>2</td>\n    </tr>\n    <tr>\n      <th>43</th>\n      <td>HartvNL</td>\n      <td>HartvNL</td>\n      <td>NaN</td>\n      <td>0</td>\n      <td>27</td>\n      <td>190</td>\n      <td>0</td>\n      <td>190</td>\n      <td>237</td>\n      <td>0</td>\n      <td>...</td>\n      <td>0</td>\n      <td>0.000000</td>\n      <td>0.000000</td>\n      <td>0.000000</td>\n      <td>0.216360</td>\n      <td>0.000000</td>\n      <td>0.012330</td>\n      <td>0.002005</td>\n      <td>0.534336</td>\n      <td>2</td>\n    </tr>\n    <tr>\n      <th>46</th>\n      <td>TheRebelThePoet</td>\n      <td>TheRebelThePoet</td>\n      <td>NaN</td>\n      <td>0</td>\n      <td>25</td>\n      <td>213</td>\n      <td>1</td>\n      <td>214</td>\n      <td>316</td>\n      <td>1</td>\n      <td>...</td>\n      <td>1</td>\n      <td>1.000000</td>\n      <td>1.000000</td>\n      <td>1148.623016</td>\n      <td>0.498295</td>\n      <td>0.002671</td>\n      <td>0.014400</td>\n      <td>0.004366</td>\n      <td>0.813891</td>\n      <td>1</td>\n    </tr>\n    <tr>\n      <th>1145</th>\n      <td>volkskrant</td>\n      <td>volkskrant</td>\n      <td>NaN</td>\n      <td>0</td>\n      <td>24</td>\n      <td>45</td>\n      <td>0</td>\n      <td>45</td>\n      <td>65</td>\n      <td>0</td>\n      <td>...</td>\n      <td>0</td>\n      <td>0.000000</td>\n      <td>0.000000</td>\n      <td>0.000000</td>\n      <td>0.053298</td>\n      <td>0.000000</td>\n      <td>0.014708</td>\n      <td>0.028283</td>\n      <td>0.285381</td>\n      <td>4</td>\n    </tr>\n    <tr>\n      <th>32</th>\n      <td>kozwartepiet</td>\n      <td>kozwartepiet</td>\n      <td>NaN</td>\n      <td>0</td>\n      <td>634</td>\n      <td>273</td>\n      <td>18</td>\n      <td>291</td>\n      <td>471</td>\n      <td>22</td>\n      <td>...</td>\n      <td>19</td>\n      <td>0.089950</td>\n      <td>0.117547</td>\n      <td>379874.383167</td>\n      <td>0.611762</td>\n      <td>0.064434</td>\n      <td>0.024833</td>\n      <td>0.005387</td>\n      <td>1.000000</td>\n      <td>1</td>\n    </tr>\n  </tbody>\n</table>\n<p>10 rows × 21 columns</p>\n</div>"
     },
     "execution_count": 36,
     "metadata": {},
     "output_type": "execute_result"
    }
   ],
   "source": [
    "# Sort users based on pagerank\n",
    "network_data.sort_values('pageranks').tail(n=10)"
   ]
  },
  {
   "cell_type": "code",
   "execution_count": 38,
   "outputs": [
    {
     "data": {
      "text/plain": "             username            Label  timeset  componentnumber  \\\n8         SylvanaBIJ1      SylvanaBIJ1      NaN                0   \n18      erikpjverweij    erikpjverweij      NaN                0   \n22        jesseklaver      jesseklaver      NaN                0   \n32       kozwartepiet     kozwartepiet      NaN                0   \n43            HartvNL          HartvNL      NaN                0   \n46    TheRebelThePoet  TheRebelThePoet      NaN                0   \n112      frankvdlinde     frankvdlinde      NaN                0   \n171               NOS              NOS      NaN                0   \n196          NHNieuws         NHNieuws      NaN                0   \n1402             ADnl             ADnl      NaN                0   \n\n      strongcompnum  indegree  outdegree  Degree  weighted indegree  \\\n8               109       152          0     152                185   \n18              634       109          3     112                154   \n22               13       147          0     147                205   \n32              634       273         18     291                471   \n43               27       190          0     190                237   \n46               25       213          1     214                316   \n112              19       111          5     116                151   \n171              17       134          0     134                174   \n196              30        89          0      89                131   \n1402              0        95          0      95                111   \n\n      weighted outdegree  ...  Eccentricity  closnesscentrality  \\\n8                      0  ...             0            0.000000   \n18                     3  ...            15            0.124773   \n22                     0  ...             0            0.000000   \n32                    22  ...            19            0.089950   \n43                     0  ...             0            0.000000   \n46                     1  ...             1            1.000000   \n112                    8  ...             1            1.000000   \n171                    0  ...             0            0.000000   \n196                    0  ...             0            0.000000   \n1402                   0  ...             0            0.000000   \n\n      harmonicclosnesscentrality  betweenesscentrality  Authority       Hub  \\\n8                       0.000000              0.000000   0.195546  0.000000   \n18                      0.137056         136860.272338   0.096377  0.004986   \n22                      0.000000              0.000000   0.168528  0.000000   \n32                      0.117547         379874.383167   0.611762  0.064434   \n43                      0.000000              0.000000   0.216360  0.000000   \n46                      1.000000           1148.623016   0.498295  0.002671   \n112                     1.000000           3823.845238   0.129578  0.015771   \n171                     0.000000              0.000000   0.128279  0.000000   \n196                     0.000000              0.000000   0.118986  0.000000   \n1402                    0.000000              0.000000   0.105295  0.000000   \n\n      pageranks  clustering  eigencentrality  modularity_class  \n8      0.009433    0.001394         0.447703                 1  \n18     0.007534    0.006306         0.302282                 0  \n22     0.009438    0.003867         0.649081                 2  \n32     0.024833    0.005387         1.000000                 1  \n43     0.012330    0.002005         0.534336                 2  \n46     0.014400    0.004366         0.813891                 1  \n112    0.006045    0.007946         0.327386                 3  \n171    0.008438    0.004152         0.481444                 2  \n196    0.004943    0.004852         0.272249                 3  \n1402   0.005337    0.002688         0.268360                 2  \n\n[10 rows x 21 columns]",
      "text/html": "<div>\n<style scoped>\n    .dataframe tbody tr th:only-of-type {\n        vertical-align: middle;\n    }\n\n    .dataframe tbody tr th {\n        vertical-align: top;\n    }\n\n    .dataframe thead th {\n        text-align: right;\n    }\n</style>\n<table border=\"1\" class=\"dataframe\">\n  <thead>\n    <tr style=\"text-align: right;\">\n      <th></th>\n      <th>username</th>\n      <th>Label</th>\n      <th>timeset</th>\n      <th>componentnumber</th>\n      <th>strongcompnum</th>\n      <th>indegree</th>\n      <th>outdegree</th>\n      <th>Degree</th>\n      <th>weighted indegree</th>\n      <th>weighted outdegree</th>\n      <th>...</th>\n      <th>Eccentricity</th>\n      <th>closnesscentrality</th>\n      <th>harmonicclosnesscentrality</th>\n      <th>betweenesscentrality</th>\n      <th>Authority</th>\n      <th>Hub</th>\n      <th>pageranks</th>\n      <th>clustering</th>\n      <th>eigencentrality</th>\n      <th>modularity_class</th>\n    </tr>\n  </thead>\n  <tbody>\n    <tr>\n      <th>8</th>\n      <td>SylvanaBIJ1</td>\n      <td>SylvanaBIJ1</td>\n      <td>NaN</td>\n      <td>0</td>\n      <td>109</td>\n      <td>152</td>\n      <td>0</td>\n      <td>152</td>\n      <td>185</td>\n      <td>0</td>\n      <td>...</td>\n      <td>0</td>\n      <td>0.000000</td>\n      <td>0.000000</td>\n      <td>0.000000</td>\n      <td>0.195546</td>\n      <td>0.000000</td>\n      <td>0.009433</td>\n      <td>0.001394</td>\n      <td>0.447703</td>\n      <td>1</td>\n    </tr>\n    <tr>\n      <th>18</th>\n      <td>erikpjverweij</td>\n      <td>erikpjverweij</td>\n      <td>NaN</td>\n      <td>0</td>\n      <td>634</td>\n      <td>109</td>\n      <td>3</td>\n      <td>112</td>\n      <td>154</td>\n      <td>3</td>\n      <td>...</td>\n      <td>15</td>\n      <td>0.124773</td>\n      <td>0.137056</td>\n      <td>136860.272338</td>\n      <td>0.096377</td>\n      <td>0.004986</td>\n      <td>0.007534</td>\n      <td>0.006306</td>\n      <td>0.302282</td>\n      <td>0</td>\n    </tr>\n    <tr>\n      <th>22</th>\n      <td>jesseklaver</td>\n      <td>jesseklaver</td>\n      <td>NaN</td>\n      <td>0</td>\n      <td>13</td>\n      <td>147</td>\n      <td>0</td>\n      <td>147</td>\n      <td>205</td>\n      <td>0</td>\n      <td>...</td>\n      <td>0</td>\n      <td>0.000000</td>\n      <td>0.000000</td>\n      <td>0.000000</td>\n      <td>0.168528</td>\n      <td>0.000000</td>\n      <td>0.009438</td>\n      <td>0.003867</td>\n      <td>0.649081</td>\n      <td>2</td>\n    </tr>\n    <tr>\n      <th>32</th>\n      <td>kozwartepiet</td>\n      <td>kozwartepiet</td>\n      <td>NaN</td>\n      <td>0</td>\n      <td>634</td>\n      <td>273</td>\n      <td>18</td>\n      <td>291</td>\n      <td>471</td>\n      <td>22</td>\n      <td>...</td>\n      <td>19</td>\n      <td>0.089950</td>\n      <td>0.117547</td>\n      <td>379874.383167</td>\n      <td>0.611762</td>\n      <td>0.064434</td>\n      <td>0.024833</td>\n      <td>0.005387</td>\n      <td>1.000000</td>\n      <td>1</td>\n    </tr>\n    <tr>\n      <th>43</th>\n      <td>HartvNL</td>\n      <td>HartvNL</td>\n      <td>NaN</td>\n      <td>0</td>\n      <td>27</td>\n      <td>190</td>\n      <td>0</td>\n      <td>190</td>\n      <td>237</td>\n      <td>0</td>\n      <td>...</td>\n      <td>0</td>\n      <td>0.000000</td>\n      <td>0.000000</td>\n      <td>0.000000</td>\n      <td>0.216360</td>\n      <td>0.000000</td>\n      <td>0.012330</td>\n      <td>0.002005</td>\n      <td>0.534336</td>\n      <td>2</td>\n    </tr>\n    <tr>\n      <th>46</th>\n      <td>TheRebelThePoet</td>\n      <td>TheRebelThePoet</td>\n      <td>NaN</td>\n      <td>0</td>\n      <td>25</td>\n      <td>213</td>\n      <td>1</td>\n      <td>214</td>\n      <td>316</td>\n      <td>1</td>\n      <td>...</td>\n      <td>1</td>\n      <td>1.000000</td>\n      <td>1.000000</td>\n      <td>1148.623016</td>\n      <td>0.498295</td>\n      <td>0.002671</td>\n      <td>0.014400</td>\n      <td>0.004366</td>\n      <td>0.813891</td>\n      <td>1</td>\n    </tr>\n    <tr>\n      <th>112</th>\n      <td>frankvdlinde</td>\n      <td>frankvdlinde</td>\n      <td>NaN</td>\n      <td>0</td>\n      <td>19</td>\n      <td>111</td>\n      <td>5</td>\n      <td>116</td>\n      <td>151</td>\n      <td>8</td>\n      <td>...</td>\n      <td>1</td>\n      <td>1.000000</td>\n      <td>1.000000</td>\n      <td>3823.845238</td>\n      <td>0.129578</td>\n      <td>0.015771</td>\n      <td>0.006045</td>\n      <td>0.007946</td>\n      <td>0.327386</td>\n      <td>3</td>\n    </tr>\n    <tr>\n      <th>171</th>\n      <td>NOS</td>\n      <td>NOS</td>\n      <td>NaN</td>\n      <td>0</td>\n      <td>17</td>\n      <td>134</td>\n      <td>0</td>\n      <td>134</td>\n      <td>174</td>\n      <td>0</td>\n      <td>...</td>\n      <td>0</td>\n      <td>0.000000</td>\n      <td>0.000000</td>\n      <td>0.000000</td>\n      <td>0.128279</td>\n      <td>0.000000</td>\n      <td>0.008438</td>\n      <td>0.004152</td>\n      <td>0.481444</td>\n      <td>2</td>\n    </tr>\n    <tr>\n      <th>196</th>\n      <td>NHNieuws</td>\n      <td>NHNieuws</td>\n      <td>NaN</td>\n      <td>0</td>\n      <td>30</td>\n      <td>89</td>\n      <td>0</td>\n      <td>89</td>\n      <td>131</td>\n      <td>0</td>\n      <td>...</td>\n      <td>0</td>\n      <td>0.000000</td>\n      <td>0.000000</td>\n      <td>0.000000</td>\n      <td>0.118986</td>\n      <td>0.000000</td>\n      <td>0.004943</td>\n      <td>0.004852</td>\n      <td>0.272249</td>\n      <td>3</td>\n    </tr>\n    <tr>\n      <th>1402</th>\n      <td>ADnl</td>\n      <td>ADnl</td>\n      <td>NaN</td>\n      <td>0</td>\n      <td>0</td>\n      <td>95</td>\n      <td>0</td>\n      <td>95</td>\n      <td>111</td>\n      <td>0</td>\n      <td>...</td>\n      <td>0</td>\n      <td>0.000000</td>\n      <td>0.000000</td>\n      <td>0.000000</td>\n      <td>0.105295</td>\n      <td>0.000000</td>\n      <td>0.005337</td>\n      <td>0.002688</td>\n      <td>0.268360</td>\n      <td>2</td>\n    </tr>\n  </tbody>\n</table>\n<p>10 rows × 21 columns</p>\n</div>"
     },
     "execution_count": 38,
     "metadata": {},
     "output_type": "execute_result"
    }
   ],
   "source": [
    "# Sort users based on how often they are retweeted\n",
    "to_search = list(network_data_rt.sort_values('weighted indegree').tail(n=10)['Id'])\n",
    "network_data[network_data['username'].isin(to_search)]"
   ],
   "metadata": {
    "collapsed": false,
    "pycharm": {
     "name": "#%%\n"
    }
   }
  },
  {
   "cell_type": "code",
   "execution_count": 39,
   "outputs": [
    {
     "data": {
      "text/plain": "                  timeset  componentnumber  strongcompnum  indegree  \\\nmodularity_class                                                      \n0                     NaN              0.0    1250.962264  2.532075   \n1                     NaN              0.0    1234.805063  3.143038   \n2                     NaN              0.0    1186.558644  2.648136   \n3                     NaN              0.0    1234.022284  2.392758   \n4                     NaN              0.0    1065.939394  2.733333   \n\n                  outdegree    Degree  weighted indegree  weighted outdegree  \\\nmodularity_class                                                               \n0                  2.430189  4.962264           3.316981            3.264151   \n1                  3.196203  6.339241           4.194937            4.245570   \n2                  2.621017  5.269153           3.148475            3.110508   \n3                  2.454039  4.846797           3.103064            3.194986   \n4                  2.751515  5.484848           3.981818            3.963636   \n\n                  Weighted Degree  Eccentricity  closnesscentrality  \\\nmodularity_class                                                      \n0                        6.581132      8.743396            0.310897   \n1                        8.440506     10.056962            0.324614   \n2                        6.258983      7.168814            0.420766   \n3                        6.298050      5.919220            0.431282   \n4                        7.945455      7.903030            0.335641   \n\n                  harmonicclosnesscentrality  betweenesscentrality  Authority  \\\nmodularity_class                                                                \n0                                   0.328087           4755.785319   0.001826   \n1                                   0.345212           3766.410852   0.004820   \n2                                   0.439778           4094.944563   0.002145   \n3                                   0.452481           1755.959790   0.002144   \n4                                   0.351205           6288.215287   0.002261   \n\n                       Hub  pageranks  clustering  eigencentrality  \nmodularity_class                                                    \n0                 0.005775   0.000340    0.133431         0.008227  \n1                 0.019186   0.000353    0.166089         0.013549  \n2                 0.006119   0.000305    0.089895         0.008904  \n3                 0.005700   0.000274    0.107406         0.007105  \n4                 0.005766   0.000433    0.142996         0.011411  ",
      "text/html": "<div>\n<style scoped>\n    .dataframe tbody tr th:only-of-type {\n        vertical-align: middle;\n    }\n\n    .dataframe tbody tr th {\n        vertical-align: top;\n    }\n\n    .dataframe thead th {\n        text-align: right;\n    }\n</style>\n<table border=\"1\" class=\"dataframe\">\n  <thead>\n    <tr style=\"text-align: right;\">\n      <th></th>\n      <th>timeset</th>\n      <th>componentnumber</th>\n      <th>strongcompnum</th>\n      <th>indegree</th>\n      <th>outdegree</th>\n      <th>Degree</th>\n      <th>weighted indegree</th>\n      <th>weighted outdegree</th>\n      <th>Weighted Degree</th>\n      <th>Eccentricity</th>\n      <th>closnesscentrality</th>\n      <th>harmonicclosnesscentrality</th>\n      <th>betweenesscentrality</th>\n      <th>Authority</th>\n      <th>Hub</th>\n      <th>pageranks</th>\n      <th>clustering</th>\n      <th>eigencentrality</th>\n    </tr>\n    <tr>\n      <th>modularity_class</th>\n      <th></th>\n      <th></th>\n      <th></th>\n      <th></th>\n      <th></th>\n      <th></th>\n      <th></th>\n      <th></th>\n      <th></th>\n      <th></th>\n      <th></th>\n      <th></th>\n      <th></th>\n      <th></th>\n      <th></th>\n      <th></th>\n      <th></th>\n      <th></th>\n    </tr>\n  </thead>\n  <tbody>\n    <tr>\n      <th>0</th>\n      <td>NaN</td>\n      <td>0.0</td>\n      <td>1250.962264</td>\n      <td>2.532075</td>\n      <td>2.430189</td>\n      <td>4.962264</td>\n      <td>3.316981</td>\n      <td>3.264151</td>\n      <td>6.581132</td>\n      <td>8.743396</td>\n      <td>0.310897</td>\n      <td>0.328087</td>\n      <td>4755.785319</td>\n      <td>0.001826</td>\n      <td>0.005775</td>\n      <td>0.000340</td>\n      <td>0.133431</td>\n      <td>0.008227</td>\n    </tr>\n    <tr>\n      <th>1</th>\n      <td>NaN</td>\n      <td>0.0</td>\n      <td>1234.805063</td>\n      <td>3.143038</td>\n      <td>3.196203</td>\n      <td>6.339241</td>\n      <td>4.194937</td>\n      <td>4.245570</td>\n      <td>8.440506</td>\n      <td>10.056962</td>\n      <td>0.324614</td>\n      <td>0.345212</td>\n      <td>3766.410852</td>\n      <td>0.004820</td>\n      <td>0.019186</td>\n      <td>0.000353</td>\n      <td>0.166089</td>\n      <td>0.013549</td>\n    </tr>\n    <tr>\n      <th>2</th>\n      <td>NaN</td>\n      <td>0.0</td>\n      <td>1186.558644</td>\n      <td>2.648136</td>\n      <td>2.621017</td>\n      <td>5.269153</td>\n      <td>3.148475</td>\n      <td>3.110508</td>\n      <td>6.258983</td>\n      <td>7.168814</td>\n      <td>0.420766</td>\n      <td>0.439778</td>\n      <td>4094.944563</td>\n      <td>0.002145</td>\n      <td>0.006119</td>\n      <td>0.000305</td>\n      <td>0.089895</td>\n      <td>0.008904</td>\n    </tr>\n    <tr>\n      <th>3</th>\n      <td>NaN</td>\n      <td>0.0</td>\n      <td>1234.022284</td>\n      <td>2.392758</td>\n      <td>2.454039</td>\n      <td>4.846797</td>\n      <td>3.103064</td>\n      <td>3.194986</td>\n      <td>6.298050</td>\n      <td>5.919220</td>\n      <td>0.431282</td>\n      <td>0.452481</td>\n      <td>1755.959790</td>\n      <td>0.002144</td>\n      <td>0.005700</td>\n      <td>0.000274</td>\n      <td>0.107406</td>\n      <td>0.007105</td>\n    </tr>\n    <tr>\n      <th>4</th>\n      <td>NaN</td>\n      <td>0.0</td>\n      <td>1065.939394</td>\n      <td>2.733333</td>\n      <td>2.751515</td>\n      <td>5.484848</td>\n      <td>3.981818</td>\n      <td>3.963636</td>\n      <td>7.945455</td>\n      <td>7.903030</td>\n      <td>0.335641</td>\n      <td>0.351205</td>\n      <td>6288.215287</td>\n      <td>0.002261</td>\n      <td>0.005766</td>\n      <td>0.000433</td>\n      <td>0.142996</td>\n      <td>0.011411</td>\n    </tr>\n  </tbody>\n</table>\n</div>"
     },
     "execution_count": 39,
     "metadata": {},
     "output_type": "execute_result"
    }
   ],
   "source": [
    "# Group clusters together and give a mean summary\n",
    "grouped_network_data = network_data.groupby('modularity_class')\n",
    "grouped_network_data.mean()"
   ],
   "metadata": {
    "collapsed": false,
    "pycharm": {
     "name": "#%%\n"
    }
   }
  },
  {
   "cell_type": "code",
   "execution_count": 8,
   "outputs": [
    {
     "name": "stderr",
     "output_type": "stream",
     "text": [
      "/var/folders/3q/gtdr3t3530ggtztvm2wvp1mc0000gn/T/ipykernel_6157/2989371043.py:2: SettingWithCopyWarning: \n",
      "A value is trying to be set on a copy of a slice from a DataFrame.\n",
      "Try using .loc[row_indexer,col_indexer] = value instead\n",
      "\n",
      "See the caveats in the documentation: https://pandas.pydata.org/pandas-docs/stable/user_guide/indexing.html#returning-a-view-versus-a-copy\n",
      "  workable_data['clean_text_string'] = [' '.join(map(str, l)) for l in workable_data['clean_text']]\n"
     ]
    }
   ],
   "source": [
    "# Filter tweets on users appearing in the final network, result is data used for R.\n",
    "workable_data = tweets[tweets[\"username\"].isin(network_data['username'])]\n",
    "workable_data['clean_text_string'] = [' '.join(map(str, l)) for l in workable_data['clean_text']]\n",
    "workable_data = workable_data.merge(network_data.loc[:,['username','modularity_class']], on=\"username\", how='inner')\n",
    "workable_data[['clean_text_string', 'modularity_class']].to_csv('data/R_data/workable_data.csv', index=False)"
   ],
   "metadata": {
    "collapsed": false,
    "pycharm": {
     "name": "#%%\n"
    }
   }
  },
  {
   "cell_type": "code",
   "execution_count": null,
   "outputs": [],
   "source": [],
   "metadata": {
    "collapsed": false,
    "pycharm": {
     "name": "#%%\n"
    }
   }
  }
 ],
 "metadata": {
  "kernelspec": {
   "display_name": "Python 3 (ipykernel)",
   "language": "python",
   "name": "python3"
  },
  "language_info": {
   "codemirror_mode": {
    "name": "ipython",
    "version": 3
   },
   "file_extension": ".py",
   "mimetype": "text/x-python",
   "name": "python",
   "nbconvert_exporter": "python",
   "pygments_lexer": "ipython3",
   "version": "3.9.7"
  }
 },
 "nbformat": 4,
 "nbformat_minor": 5
}