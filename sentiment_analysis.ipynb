{
 "cells": [
  {
   "cell_type": "markdown",
   "id": "65ba5a0f",
   "metadata": {},
   "source": [
    "Install necesary libraries"
   ]
  },
  {
   "cell_type": "code",
   "execution_count": null,
   "id": "516f9f76",
   "metadata": {},
   "outputs": [],
   "source": [
    "!pip install -U textblob\n",
    "!pip install textblob-nl\n",
    "!python -m textblob.download_corpora"
   ]
  },
  {
   "cell_type": "code",
   "execution_count": 150,
   "id": "cf5e62d4",
   "metadata": {},
   "outputs": [
    {
     "data": {
      "text/plain": [
       "True"
      ]
     },
     "execution_count": 150,
     "metadata": {},
     "output_type": "execute_result"
    }
   ],
   "source": [
    "import pandas as pd\n",
    "\n",
    "data = pd.read_csv (r'cleaned_tweets.csv')\n",
    "pd.Series(data['tweet_id']).is_unique"
   ]
  },
  {
   "cell_type": "code",
   "execution_count": 151,
   "id": "f906112d",
   "metadata": {},
   "outputs": [
    {
     "data": {
      "application/vnd.jupyter.widget-view+json": {
       "model_id": "c5aa19d11cbd4bb6ab6a396aefe95c2a",
       "version_major": 2,
       "version_minor": 0
      },
      "text/plain": [
       "  0%|          | 0/11690 [00:00<?, ?it/s]"
      ]
     },
     "metadata": {},
     "output_type": "display_data"
    }
   ],
   "source": [
    "from tqdm.notebook import tqdm\n",
    "tqdm.pandas()\n",
    "\n",
    "sentiment = data.clean_text.progress_apply(lambda x: tuple(TextBlob(text=x, analyzer=PatternAnalyzer()).sentiment))\n",
    "\n",
    "data[\"polarity\"] = sentiment.str.get(0)\n",
    "data[\"subjectivity\"] = sentiment.str.get(1)"
   ]
  },
  {
   "cell_type": "code",
   "execution_count": 152,
   "id": "8b81361f",
   "metadata": {},
   "outputs": [
    {
     "data": {
      "image/png": "[encoded data removed]",
      "text/plain": [
       "<Figure size 864x288 with 2 Axes>"
      ]
     },
     "metadata": {},
     "output_type": "display_data"
    }
   ],
   "source": [
    "import matplotlib.pyplot as plt\n",
    "import matplotlib.ticker as mtick\n",
    "import seaborn as sns\n",
    "\n",
    "fig, ax = plt.subplots(figsize=(12, 4), ncols=2)\n",
    "\n",
    "data[\"polarity\"].plot(kind=\"hist\", ax=ax[0], bins=20, edgecolor=\"white\",  title=\"Polarity\")\n",
    "data[\"subjectivity\"].plot(kind=\"hist\",ax=ax[1], bins=20, edgecolor=\"white\", title=\"Subjectivity\")\n",
    "\n",
    "ax[0].set_xlim(-1, 1)\n",
    "ax[1].set_xlim(0, 1)\n",
    "\n",
    "# Meta-data plot\n",
    "sns.despine()"
   ]
  },
  {
   "cell_type": "code",
   "execution_count": 153,
   "id": "9b33a241",
   "metadata": {},
   "outputs": [],
   "source": [
    "data[\"polarity_text\"] = 0\n",
    "\n",
    "data.loc[data.polarity > 0, 'polarity_text'] = 'Positive'\n",
    "data.loc[data.polarity < 0, 'polarity_text'] = 'Negative'\n",
    "data.loc[data.polarity == 0, 'polarity_text'] = 'Neutral'"
   ]
  },
  {
   "cell_type": "code",
   "execution_count": 154,
   "id": "a822a2c7",
   "metadata": {},
   "outputs": [
    {
     "data": {
      "text/plain": [
       "Text(0.5, 0.98, 'Sentiment of tweets')"
      ]
     },
     "execution_count": 154,
     "metadata": {},
     "output_type": "execute_result"
    },
    {
     "data": {
      "image/png": "[encoded data removed]",
      "text/plain": [
       "<Figure size 288x288 with 1 Axes>"
      ]
     },
     "metadata": {},
     "output_type": "display_data"
    }
   ],
   "source": [
    "fc = sns.catplot(x=\"polarity_text\",\n",
    "                    data=data, kind=\"count\", \n",
    "                    palette={\"Negative\": \"#F36B6B\", \n",
    "                             \"Positive\": \"#1FB57B\", \n",
    "                             \"Neutral\": \"#A8E7E9\"},\n",
    "                    height=4, aspect=1)\n",
    "fc.fig.suptitle('Sentiment of tweets', fontsize=14)"
   ]
  },
  {
   "cell_type": "code",
   "execution_count": 155,
   "id": "3db86a91",
   "metadata": {},
   "outputs": [
    {
     "name": "stdout",
     "output_type": "stream",
     "text": [
      "Most positive tweet:\n",
      "RT @BasedMadocke: Een perfect antwoord op het cultuurterrorisme van Kozp. #kozp #Volendam\n",
      "Most negative tweet:\n",
      "Belachelijk dat de politie in Volendam demonstranten niet beschermt tegen geweld. #kozp #ZwartePietIsRacisme\n",
      "Neutral tweet example:\n",
      "RT @rallyjef2: Iemand een visschotel besteld?\n",
      "\n",
      "#volendam #kozp #bij1 #SylvanaSimons #pvv #dvd #sinterklaas https://t.co/NYIi9QUevv\n"
     ]
    }
   ],
   "source": [
    "pos = data[data.polarity == 1].index[0]\n",
    "print(\"Most positive tweet:\")\n",
    "print(data.iloc[pos][\"text\"])\n",
    "\n",
    "neg = data[data.polarity == -1].index[0]\n",
    "print(\"Most negative tweet:\")\n",
    "print(data.iloc[neg][\"text\"])\n",
    "\n",
    "neu = data[data.polarity == 0].index[2]\n",
    "print(\"Neutral tweet example:\")\n",
    "print(data.iloc[neu][\"text\"])"
   ]
  },
  {
   "cell_type": "code",
   "execution_count": null,
   "id": "01530544",
   "metadata": {},
   "outputs": [],
   "source": []
  }
 ],
 "metadata": {
  "kernelspec": {
   "display_name": "Python 3",
   "language": "python",
   "name": "python3"
  },
  "language_info": {
   "codemirror_mode": {
    "name": "ipython",
    "version": 3
   },
   "file_extension": ".py",
   "mimetype": "text/x-python",
   "name": "python",
   "nbconvert_exporter": "python",
   "pygments_lexer": "ipython3",
   "version": "3.8.8"
  }
 },
 "nbformat": 4,
 "nbformat_minor": 5
}
