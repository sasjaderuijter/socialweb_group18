{
 "cells": [
  {
   "cell_type": "markdown",
   "id": "65ba5a0f",
   "metadata": {},
   "source": [
    "__Install necesary libraries for dutch sentiment analysis__"
   ]
  },
  {
   "cell_type": "code",
   "execution_count": 83,
   "id": "516f9f76",
   "metadata": {},
   "outputs": [
    {
     "name": "stdout",
     "output_type": "stream",
     "text": [
      "Requirement already satisfied: textblob in c:\\users\\sasja\\anaconda3\\lib\\site-packages (0.17.1)\n",
      "Requirement already satisfied: nltk>=3.1 in c:\\users\\sasja\\anaconda3\\lib\\site-packages (from textblob) (3.6.1)\n",
      "Requirement already satisfied: click in c:\\users\\sasja\\anaconda3\\lib\\site-packages (from nltk>=3.1->textblob) (7.1.2)\n",
      "Requirement already satisfied: joblib in c:\\users\\sasja\\anaconda3\\lib\\site-packages (from nltk>=3.1->textblob) (1.0.1)\n",
      "Requirement already satisfied: tqdm in c:\\users\\sasja\\anaconda3\\lib\\site-packages (from nltk>=3.1->textblob) (4.59.0)\n",
      "Requirement already satisfied: regex in c:\\users\\sasja\\anaconda3\\lib\\site-packages (from nltk>=3.1->textblob) (2021.4.4)\n",
      "Requirement already satisfied: textblob-nl in c:\\users\\sasja\\anaconda3\\lib\\site-packages (0.0.1)\n",
      "Requirement already satisfied: textblob>=0.8.0 in c:\\users\\sasja\\anaconda3\\lib\\site-packages (from textblob-nl) (0.17.1)\n",
      "Requirement already satisfied: nltk>=3.1 in c:\\users\\sasja\\anaconda3\\lib\\site-packages (from textblob>=0.8.0->textblob-nl) (3.6.1)\n",
      "Requirement already satisfied: click in c:\\users\\sasja\\anaconda3\\lib\\site-packages (from nltk>=3.1->textblob>=0.8.0->textblob-nl) (7.1.2)\n",
      "Requirement already satisfied: joblib in c:\\users\\sasja\\anaconda3\\lib\\site-packages (from nltk>=3.1->textblob>=0.8.0->textblob-nl) (1.0.1)\n",
      "Requirement already satisfied: tqdm in c:\\users\\sasja\\anaconda3\\lib\\site-packages (from nltk>=3.1->textblob>=0.8.0->textblob-nl) (4.59.0)\n",
      "Requirement already satisfied: regex in c:\\users\\sasja\\anaconda3\\lib\\site-packages (from nltk>=3.1->textblob>=0.8.0->textblob-nl) (2021.4.4)\n",
      "Finished.\n"
     ]
    },
    {
     "name": "stderr",
     "output_type": "stream",
     "text": [
      "[nltk_data] Downloading package brown to\n",
      "[nltk_data]     C:\\Users\\sasja\\AppData\\Roaming\\nltk_data...\n",
      "[nltk_data]   Package brown is already up-to-date!\n",
      "[nltk_data] Downloading package punkt to\n",
      "[nltk_data]     C:\\Users\\sasja\\AppData\\Roaming\\nltk_data...\n",
      "[nltk_data]   Package punkt is already up-to-date!\n",
      "[nltk_data] Downloading package wordnet to\n",
      "[nltk_data]     C:\\Users\\sasja\\AppData\\Roaming\\nltk_data...\n",
      "[nltk_data]   Package wordnet is already up-to-date!\n",
      "[nltk_data] Downloading package averaged_perceptron_tagger to\n",
      "[nltk_data]     C:\\Users\\sasja\\AppData\\Roaming\\nltk_data...\n",
      "[nltk_data]   Package averaged_perceptron_tagger is already up-to-\n",
      "[nltk_data]       date!\n",
      "[nltk_data] Downloading package conll2000 to\n",
      "[nltk_data]     C:\\Users\\sasja\\AppData\\Roaming\\nltk_data...\n",
      "[nltk_data]   Package conll2000 is already up-to-date!\n",
      "[nltk_data] Downloading package movie_reviews to\n",
      "[nltk_data]     C:\\Users\\sasja\\AppData\\Roaming\\nltk_data...\n",
      "[nltk_data]   Package movie_reviews is already up-to-date!\n"
     ]
    }
   ],
   "source": [
    "!pip install -U textblob\n",
    "!pip install textblob-nl\n",
    "!python -m textblob.download_corpora"
   ]
  },
  {
   "cell_type": "markdown",
   "id": "36d10aa8",
   "metadata": {},
   "source": [
    "## Filtering the twitter dataset on user\n",
    "Filter out the users that where excluded in the network analysis in order to compare the different clusters"
   ]
  },
  {
   "cell_type": "code",
   "execution_count": 1,
   "id": "cf5e62d4",
   "metadata": {},
   "outputs": [
    {
     "name": "stdout",
     "output_type": "stream",
     "text": [
      "Number of tweets: 11690\n",
      "Number of twitter users in twitter data: 3054\n",
      "Number of twitter users in network data: 5432\n"
     ]
    }
   ],
   "source": [
    "import pandas as pd\n",
    "\n",
    "network_data = pd.read_csv ('data/network_stats/complete.csv')\n",
    "tweets = pd.read_csv ('data/cleaned_w_rt/cleaned_rt.csv')\n",
    "\n",
    "network_data = network_data.rename(columns={\"Id\": \"username\"})\n",
    "\n",
    "print(\"Number of tweets:\", len(tweets))\n",
    "print(\"Number of twitter users in twitter data:\", network_data.username.nunique())\n",
    "print(\"Number of twitter users in network data:\", tweets.username.nunique())"
   ]
  },
  {
   "cell_type": "code",
   "execution_count": 2,
   "id": "f6a065e1",
   "metadata": {},
   "outputs": [
    {
     "name": "stdout",
     "output_type": "stream",
     "text": [
      "Number of tweets: 8248\n",
      "Number of twitter users: 2662\n",
      "Modularity groups: [2 4 3 1 0]\n"
     ]
    }
   ],
   "source": [
    "data = tweets[tweets[\"username\"].isin(network_data['username'])]\n",
    "data = data.merge(network_data.loc[:,['username','modularity_class']], on=\"username\", how='inner')\n",
    "\n",
    "print(\"Number of tweets:\", len(data))\n",
    "print(\"Number of twitter users:\", data.username.nunique())\n",
    "print(\"Modularity groups:\",data[\"modularity_class\"].unique())"
   ]
  },
  {
   "cell_type": "markdown",
   "id": "ea29f8dd",
   "metadata": {},
   "source": [
    "## Apply sentiment analysis on data\n",
    "Using the dutch version of TextBlob, calculate the polarity and subjectivity score"
   ]
  },
  {
   "cell_type": "code",
   "execution_count": 3,
   "id": "f906112d",
   "metadata": {},
   "outputs": [
    {
     "data": {
      "application/vnd.jupyter.widget-view+json": {
       "model_id": "f198bdf549464329b3cf79cb9ecbba86",
       "version_major": 2,
       "version_minor": 0
      },
      "text/plain": [
       "  0%|          | 0/8248 [00:00<?, ?it/s]"
      ]
     },
     "metadata": {},
     "output_type": "display_data"
    }
   ],
   "source": [
    "from tqdm.notebook import tqdm\n",
    "tqdm.pandas()\n",
    "\n",
    "from textblob import TextBlob\n",
    "from textblob_nl import PatternTagger, PatternAnalyzer\n",
    "\n",
    "sentiment = data.clean_text.progress_apply(lambda x: tuple(TextBlob(text=x, analyzer=PatternAnalyzer()).sentiment))\n",
    "\n",
    "data[\"polarity\"] = sentiment.str.get(0)\n",
    "data[\"subjectivity\"] = sentiment.str.get(1)"
   ]
  },
  {
   "cell_type": "markdown",
   "id": "4281ef7f",
   "metadata": {},
   "source": [
    "## Visualize polarity\n",
    "Use matplotlib and seaborn to visualize the polarity score of the data set"
   ]
  },
  {
   "cell_type": "code",
   "execution_count": 4,
   "id": "8b81361f",
   "metadata": {},
   "outputs": [
    {
     "data": {
      "image/png": "[encoded data removed]",
      "text/plain": [
       "<Figure size 432x288 with 1 Axes>"
      ]
     },
     "metadata": {
      "needs_background": "light"
     },
     "output_type": "display_data"
    }
   ],
   "source": [
    "import matplotlib.pyplot as plt\n",
    "import matplotlib.ticker as mtick\n",
    "import seaborn as sns\n",
    "\n",
    "fig, ax = plt.subplots(figsize=(6, 4))\n",
    "\n",
    "data[\"polarity\"].plot(kind=\"hist\", bins=21, edgecolor=\"white\",  title=\"Polarity\")\n",
    "ax.set_xlim(-1, 1)\n",
    "sns.despine()\n",
    "\n",
    "plt.savefig(\"figures/histogram_polarity_subjectivity.png\")"
   ]
  },
  {
   "cell_type": "code",
   "execution_count": 5,
   "id": "9b33a241",
   "metadata": {},
   "outputs": [],
   "source": [
    "data[\"polarity_text\"] = 0\n",
    "\n",
    "data.loc[data.polarity > 0, 'polarity_text'] = 'Positive'\n",
    "data.loc[data.polarity < 0, 'polarity_text'] = 'Negative'\n",
    "data.loc[data.polarity == 0, 'polarity_text'] = 'Neutral'"
   ]
  },
  {
   "cell_type": "code",
   "execution_count": 6,
   "id": "a822a2c7",
   "metadata": {},
   "outputs": [
    {
     "data": {
      "image/png": "[encoded data removed]",
      "text/plain": [
       "<Figure size 288x288 with 1 Axes>"
      ]
     },
     "metadata": {
      "needs_background": "light"
     },
     "output_type": "display_data"
    }
   ],
   "source": [
    "fc = sns.catplot(x=\"polarity_text\",\n",
    "                    data=data, kind=\"count\", \n",
    "                    palette={\"Negative\": \"#F36B6B\", \n",
    "                             \"Positive\": \"#1FB57B\", \n",
    "                             \"Neutral\": \"#A8E7E9\"},\n",
    "                    height=4, aspect=1)\n",
    "fc.fig.suptitle('Sentiment of tweets', fontsize=14)\n",
    "plt.tight_layout()\n",
    "plt.savefig(\"figures/catplot_sentiment.png\")"
   ]
  },
  {
   "cell_type": "code",
   "execution_count": 7,
   "id": "feb9baa0",
   "metadata": {},
   "outputs": [
    {
     "data": {
      "text/plain": [
       "Positive    36.420951\n",
       "Negative    32.613967\n",
       "Neutral     30.965082\n",
       "Name: polarity_text, dtype: float64"
      ]
     },
     "execution_count": 7,
     "metadata": {},
     "output_type": "execute_result"
    }
   ],
   "source": [
    "data['polarity_text'].value_counts(normalize=True) * 100"
   ]
  },
  {
   "cell_type": "code",
   "execution_count": 12,
   "id": "3db86a91",
   "metadata": {},
   "outputs": [
    {
     "name": "stdout",
     "output_type": "stream",
     "text": [
      "Most positive tweet:\n",
      "Iedereen een heel mooi Sinterklaas weekend toegewenst!!!\n",
      "\n",
      "#sinterklaas \n",
      "#ZwartePiet https://t.co/mJre5bLb3E\n"
     ]
    }
   ],
   "source": [
    "pos = data[data.polarity == 1]\n",
    "print(\"Most positive tweet:\")\n",
    "print(data.iloc[pos.index[6]][\"text\"])"
   ]
  },
  {
   "cell_type": "code",
   "execution_count": 13,
   "id": "6ba76c4f",
   "metadata": {},
   "outputs": [
    {
     "name": "stdout",
     "output_type": "stream",
     "text": [
      "Most negative tweet:\n",
      "@Samslifeinpiec2 @Marcel_Meijvis @LWinnips @volkskrant Ja, mee eens, KOZP zijn beestachtige racisten.\n"
     ]
    }
   ],
   "source": [
    "neg = data[data.polarity == -1]\n",
    "print(\"Most negative tweet:\")\n",
    "print(data.iloc[neg.index[4]][\"text\"])"
   ]
  },
  {
   "cell_type": "code",
   "execution_count": 14,
   "id": "f3edbe73",
   "metadata": {},
   "outputs": [
    {
     "name": "stdout",
     "output_type": "stream",
     "text": [
      "Neutral tweet example:\n",
      "RT @050Roy: @ashatenbroeke @ChrisAalberts Er was geen demonstratierecht in Volendam vandaag, de demonstratie was niet aangemeld door KOZP e…\n",
      "1467246890806878214\n"
     ]
    }
   ],
   "source": [
    "neu = data[data.polarity == 0]\n",
    "print(\"Neutral tweet example:\")\n",
    "print(data.iloc[neu.index[5]][\"text\"])\n",
    "print(data.iloc[neu.index[5]][\"tweet_id\"])"
   ]
  },
  {
   "cell_type": "code",
   "execution_count": 23,
   "id": "37f51543",
   "metadata": {},
   "outputs": [
    {
     "data": {
      "image/png": "[encoded data removed]",
      "text/plain": [
       "<Figure size 656.875x576 with 1 Axes>"
      ]
     },
     "metadata": {
      "needs_background": "light"
     },
     "output_type": "display_data"
    }
   ],
   "source": [
    "fc = sns.catplot(x=\"modularity_class\",\n",
    "                    data=data, hue=\"polarity_text\", kind=\"count\",\n",
    "                    height=8)\n",
    "fc.fig.suptitle('Sentiment of tweets', fontsize=15)\n",
    "plt.tight_layout()\n",
    "plt.savefig(\"figures/catplot_sentiment_per_group.png\")"
   ]
  },
  {
   "cell_type": "markdown",
   "id": "21386b89",
   "metadata": {},
   "source": [
    "## Visualize subjectivity\n",
    "Use matplotlib and seaborn to visualize the subjectivity score of the data set"
   ]
  },
  {
   "cell_type": "code",
   "execution_count": 15,
   "id": "fba6e218",
   "metadata": {},
   "outputs": [
    {
     "data": {
      "image/png": "[encoded data removed]",
      "text/plain": [
       "<Figure size 432x288 with 1 Axes>"
      ]
     },
     "metadata": {
      "needs_background": "light"
     },
     "output_type": "display_data"
    }
   ],
   "source": [
    "fig, ax = plt.subplots(figsize=(6, 4))\n",
    "\n",
    "data[\"subjectivity\"].plot(kind=\"hist\", bins=20, edgecolor=\"white\", title=\"Subjectivity\")\n",
    "ax.set_xlim(0, 1)\n",
    "sns.despine()\n",
    "\n",
    "plt.savefig(\"figures/histogram_subjectivity.png\")"
   ]
  },
  {
   "cell_type": "code",
   "execution_count": 43,
   "id": "2d5861cd",
   "metadata": {},
   "outputs": [
    {
     "data": {
      "image/png": "[encoded data removed]",
      "text/plain": [
       "<Figure size 432x288 with 1 Axes>"
      ]
     },
     "metadata": {
      "needs_background": "light"
     },
     "output_type": "display_data"
    }
   ],
   "source": [
    "bp = sns.boxplot(x='modularity_class', y=\"subjectivity\", \n",
    "                 hue='modularity_class', data=data)\n",
    "plt.legend(bbox_to_anchor=(1.05, 1), loc='upper left', borderaxespad=0)\n",
    "plt.tight_layout()\n",
    "plt.savefig(\"figures/boxplot_subjectivity.png\")"
   ]
  },
  {
   "cell_type": "code",
   "execution_count": 19,
   "id": "ca9f1aaf",
   "metadata": {},
   "outputs": [
    {
     "name": "stdout",
     "output_type": "stream",
     "text": [
      "Most objective tweet:\n",
      "RT @Natassanews: @RutgerGW Uit de berichtgeving begreep ik dat KOZP zelf begon met het gooien van eieren naar Volendammers.\n"
     ]
    }
   ],
   "source": [
    "obj = data[data.subjectivity == 0]\n",
    "print(\"Most objective tweet:\")\n",
    "print(data.iloc[obj.index[6]][\"text\"])"
   ]
  },
  {
   "cell_type": "code",
   "execution_count": 21,
   "id": "23aade7e",
   "metadata": {},
   "outputs": [
    {
     "name": "stdout",
     "output_type": "stream",
     "text": [
      "Most subjective tweet:\n",
      "RT @Harm_Zwiers: @jesseklaver Als je wil actie voeren prima maar niet over ruggen van een kinderfeest.\n",
      "Van mijn part vraag je op onafhankel…\n",
      "tweet ID: 1467511094377865219\n"
     ]
    }
   ],
   "source": [
    "subj = data[data.subjectivity == 1]\n",
    "print(\"Most subjective tweet:\")\n",
    "print(data.iloc[subj.index[1]][\"text\"])\n",
    "print(\"tweet ID:\", data.iloc[subj.index[1]][\"tweet_id\"])"
   ]
  },
  {
   "cell_type": "markdown",
   "id": "9ca3d8ac",
   "metadata": {},
   "source": [
    "## Statistical significance\n",
    "Determine the statistical significance with the Kruskal-Wallis H-test"
   ]
  },
  {
   "cell_type": "code",
   "execution_count": 22,
   "id": "80937996",
   "metadata": {},
   "outputs": [
    {
     "data": {
      "text/plain": [
       "KruskalResult(statistic=9.049580333838179, pvalue=0.05987208560599259)"
      ]
     },
     "execution_count": 22,
     "metadata": {},
     "output_type": "execute_result"
    }
   ],
   "source": [
    "from scipy import stats\n",
    "\n",
    "#divide data into modularity classes\n",
    "group0 = data.loc[data[\"modularity_class\"] == 0]\n",
    "group1 = data.loc[data[\"modularity_class\"] == 1]\n",
    "group2 = data.loc[data[\"modularity_class\"] == 2]\n",
    "group3 = data.loc[data[\"modularity_class\"] == 3]\n",
    "group4 = data.loc[data[\"modularity_class\"] == 4]\n",
    "\n",
    "#perform Kruskal-Wallis H-test on polarity\n",
    "stats.kruskal(group0[\"polarity\"], group1[\"polarity\"], group2[\"polarity\"], group3[\"polarity\"], group4[\"polarity\"])"
   ]
  },
  {
   "cell_type": "code",
   "execution_count": 23,
   "id": "6f998ccb",
   "metadata": {},
   "outputs": [
    {
     "data": {
      "text/plain": [
       "KruskalResult(statistic=10.759982446483821, pvalue=0.029398121490683684)"
      ]
     },
     "execution_count": 23,
     "metadata": {},
     "output_type": "execute_result"
    }
   ],
   "source": [
    "#perform Kruskal-Wallis H-test on subjectivity\n",
    "stats.kruskal(group0[\"subjectivity\"], group1[\"subjectivity\"], group2[\"subjectivity\"], \n",
    "              group3[\"subjectivity\"], group4[\"subjectivity\"])"
   ]
  },
  {
   "cell_type": "code",
   "execution_count": 31,
   "id": "49321bb9",
   "metadata": {},
   "outputs": [
    {
     "name": "stdout",
     "output_type": "stream",
     "text": [
      "Group 1 vs 2: 0.17301156654009808\n",
      "Group 1 vs 3: 0.5905843971209647\n",
      "Group 1 vs 4: 0.05808591065703074\n",
      "Group 2 vs 3: 0.12013555007199728\n",
      "Group 2 vs 4: 0.00668960754342059\n",
      "Group 3 vs 4: 0.1691804667440451\n"
     ]
    }
   ],
   "source": [
    "#find the statistical significance between groups\n",
    "print(\"Group 1 vs 2:\",stats.kruskal(group1[\"subjectivity\"], group2[\"subjectivity\"]).pvalue)\n",
    "print(\"Group 1 vs 3:\",stats.kruskal(group1[\"subjectivity\"], group3[\"subjectivity\"]).pvalue)\n",
    "print(\"Group 1 vs 4:\",stats.kruskal(group1[\"subjectivity\"], group4[\"subjectivity\"]).pvalue)\n",
    "print(\"Group 2 vs 3:\",stats.kruskal(group2[\"subjectivity\"], group3[\"subjectivity\"]).pvalue)\n",
    "print(\"Group 2 vs 4:\",stats.kruskal(group2[\"subjectivity\"], group4[\"subjectivity\"]).pvalue)\n",
    "print(\"Group 3 vs 4:\",stats.kruskal(group3[\"subjectivity\"], group4[\"subjectivity\"]).pvalue)"
   ]
  }
 ],
 "metadata": {
  "kernelspec": {
   "display_name": "Python 3",
   "language": "python",
   "name": "python3"
  },
  "language_info": {
   "codemirror_mode": {
    "name": "ipython",
    "version": 3
   },
   "file_extension": ".py",
   "mimetype": "text/x-python",
   "name": "python",
   "nbconvert_exporter": "python",
   "pygments_lexer": "ipython3",
   "version": "3.8.8"
  }
 },
 "nbformat": 4,
 "nbformat_minor": 5
}
